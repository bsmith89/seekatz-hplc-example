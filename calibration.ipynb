{
 "cells": [
  {
   "cell_type": "code",
   "execution_count": null,
   "metadata": {
    "collapsed": true
   },
   "outputs": [],
   "source": [
    "import pandas as pd\n",
    "import statsmodels.formula.api as sm\n",
    "import numpy as np\n",
    "import matplotlib.pyplot as plt\n",
    "\n",
    "%matplotlib inline"
   ]
  },
  {
   "cell_type": "code",
   "execution_count": null,
   "metadata": {
    "collapsed": false
   },
   "outputs": [],
   "source": [
    "samples = pd.read_table('raw/lcm_samplekey.txt', index_col=['lcm_sampleID'])\n",
    "samples.head()"
   ]
  },
  {
   "cell_type": "code",
   "execution_count": null,
   "metadata": {
    "collapsed": false,
    "scrolled": false
   },
   "outputs": [],
   "source": [
    "data = pd.read_table('raw/lcm.run2_data.txt').dropna(subset=['compound']).set_index(['Data_Filename', 'compound'])\n",
    "data.head()"
   ]
  },
  {
   "cell_type": "code",
   "execution_count": null,
   "metadata": {
    "collapsed": false
   },
   "outputs": [],
   "source": [
    "calibration_data = (data.join(samples, on='Sample_ID')\n",
    "                        [lambda x: x.concentration_mM.notnull()]\n",
    "                        .reset_index())\n",
    "butyrate_calibration_data = calibration_data[calibration_data['compound'] == 'butyrate']\n",
    "butyrate_calibration_data = \\\n",
    "butyrate_calibration_data[['Data_Filename', 'Sample_ID',\n",
    "                           'Area', 'Height',\n",
    "                           'injection', 'concentration_mM']]\n",
    "butyrate_calibration_data"
   ]
  },
  {
   "cell_type": "code",
   "execution_count": null,
   "metadata": {
    "collapsed": false
   },
   "outputs": [],
   "source": [
    "fit1 = sm.ols('concentration_mM ~ Area + 0', data=butyrate_calibration_data).fit()\n",
    "fit1.summary()"
   ]
  },
  {
   "cell_type": "code",
   "execution_count": null,
   "metadata": {
    "collapsed": false
   },
   "outputs": [],
   "source": [
    "fit2 = sm.wls('concentration_mM ~ Area + 0',\n",
    "              data=butyrate_calibration_data,\n",
    "              weights=butyrate_calibration_data.concentration_mM ** (-2)).fit()\n",
    "fit2.summary()"
   ]
  },
  {
   "cell_type": "code",
   "execution_count": null,
   "metadata": {
    "collapsed": false
   },
   "outputs": [],
   "source": [
    "(fit1.rsquared, fit2.rsquared)"
   ]
  },
  {
   "cell_type": "code",
   "execution_count": null,
   "metadata": {
    "collapsed": false
   },
   "outputs": [],
   "source": [
    "plt.scatter('Area', 'concentration_mM', data=butyrate_calibration_data)\n",
    "plt.xscale('log')\n",
    "plt.yscale('log')\n",
    "\n",
    "xs = np.linspace(butyrate_calibration_data.Area.min(), butyrate_calibration_data.Area.max())\n",
    "xs\n",
    "plt.plot(xs, xs * fit1.params['Area'])\n",
    "plt.plot(xs, xs * fit2.params['Area'])"
   ]
  },
  {
   "cell_type": "code",
   "execution_count": null,
   "metadata": {
    "collapsed": false
   },
   "outputs": [],
   "source": [
    "plt.scatter(fit2.predict(), fit2.resid_pearson)"
   ]
  },
  {
   "cell_type": "code",
   "execution_count": null,
   "metadata": {
    "collapsed": false
   },
   "outputs": [],
   "source": [
    "butyrate_data = data.xs('butyrate', level='compound')\n",
    "butyrate_data['calc_conc'] = butyrate_data.Area * fit2.params['Area']\n",
    "butyrate_data.head()"
   ]
  },
  {
   "cell_type": "code",
   "execution_count": null,
   "metadata": {
    "collapsed": false
   },
   "outputs": [],
   "source": [
    "butyrate_data.join(samples, on='Sample_ID').columns"
   ]
  },
  {
   "cell_type": "code",
   "execution_count": null,
   "metadata": {
    "collapsed": false
   },
   "outputs": [],
   "source": [
    "result"
   ]
  },
  {
   "cell_type": "code",
   "execution_count": null,
   "metadata": {
    "collapsed": false
   },
   "outputs": [],
   "source": [
    "result = (butyrate_data.join(samples, on='Sample_ID')\n",
    "                       [['run', 'Sample_ID',\n",
    "                         'sample_type', 'Ret._Time',\n",
    "                         'Area', 'Height', 'fecal_weight',\n",
    "                         'PBS_added', 'dilution',\n",
    "                         'concentration_mM', 'calc_conc']]\n",
    "                        [lambda x: x.sample_type == 'unknown'])\n",
    "result.calc_conc.fillna(0, inplace=True)\n",
    "result['sample_concentration'] = result.calc_conc / result.dilution\n",
    "result.sample_concentration.plot.hist(bins=100)"
   ]
  },
  {
   "cell_type": "code",
   "execution_count": null,
   "metadata": {
    "collapsed": true
   },
   "outputs": [],
   "source": []
  }
 ],
 "metadata": {
  "kernelspec": {
   "display_name": "Python 3",
   "language": "python",
   "name": "python3"
  },
  "language_info": {
   "codemirror_mode": {
    "name": "ipython",
    "version": 3
   },
   "file_extension": ".py",
   "mimetype": "text/x-python",
   "name": "python",
   "nbconvert_exporter": "python",
   "pygments_lexer": "ipython3",
   "version": "3.5.0"
  }
 },
 "nbformat": 4,
 "nbformat_minor": 0
}
