{
 "cells": [
  {
   "cell_type": "code",
   "execution_count": null,
   "metadata": {
    "collapsed": true
   },
   "outputs": [],
   "source": [
    "import pandas as pd\n",
    "import statsmodels.formula.api as sm\n",
    "import numpy as np\n",
    "import matplotlib.pyplot as plt\n",
    "\n",
    "%matplotlib inline"
   ]
  },
  {
   "cell_type": "code",
   "execution_count": null,
   "metadata": {
    "collapsed": false
   },
   "outputs": [],
   "source": [
    "samples = pd.read_table('raw/lcm_samplekey.txt', index_col=['lcm_sampleID'])\n",
    "samples.head()"
   ]
  },
  {
   "cell_type": "code",
   "execution_count": null,
   "metadata": {
    "collapsed": false,
    "scrolled": false
   },
   "outputs": [],
   "source": [
    "data1 = pd.read_table('raw/lcm.run1_data.txt').dropna(subset=['compound']).set_index(['Data_Filename', 'compound'])\n",
    "data2 = pd.read_table('raw/lcm.run2_data.txt').dropna(subset=['compound']).set_index(['Data_Filename', 'compound'])\n",
    "data = pd.concat([data1, data2])\n",
    "data.head()"
   ]
  },
  {
   "cell_type": "code",
   "execution_count": null,
   "metadata": {
    "collapsed": false
   },
   "outputs": [],
   "source": [
    "def calibrate(data, fit_intercept=False):\n",
    "    if not fit_intercept:\n",
    "        formula = 'concentration_mM ~ Area + 0'\n",
    "    else:\n",
    "        formula = 'concentration_mM ~ Area'\n",
    "    fit = sm.wls(formula,\n",
    "                 data=data,\n",
    "                 weights=data.concentration_mM ** (-2)).fit()\n",
    "    if fit_intercept:\n",
    "        intercept = fit.params['Intercept']\n",
    "    else:\n",
    "        intercept = 0\n",
    "    return fit.params['Area'], intercept, fit.rsquared\n",
    "\n",
    "def calc_concentration(data):\n",
    "    data = data.copy()\n",
    "    data.Area.fillna(0, inplace=True)\n",
    "    # Calculate the response factor\n",
    "    standards_data = data[data.concentration_mM.notnull()]\n",
    "    calibration_factor, intercept, rsquared = calibrate(standards_data)\n",
    "    # Calculate concentration for each injection using this factor\n",
    "    out = pd.DataFrame({'calc_conc': (intercept + calibration_factor * data.Area) / data.dilution,\n",
    "                        'Data_Filename': data.Data_Filename,\n",
    "                        'sample_id': data.Sample_ID})\n",
    "#    print(data.columns)\n",
    "    out['rsquared'] = rsquared\n",
    "    return out"
   ]
  },
  {
   "cell_type": "code",
   "execution_count": null,
   "metadata": {
    "collapsed": false
   },
   "outputs": [],
   "source": [
    "concentrations = data.join(samples, on='Sample_ID').reset_index().groupby(['compound', 'run']).apply(calc_concentration).reset_index()\n",
    "result = concentrations[['compound', 'sample_id', 'calc_conc', 'rsquared']].dropna(subset=['calc_conc'])\n",
    "result.head()"
   ]
  },
  {
   "cell_type": "code",
   "execution_count": null,
   "metadata": {
    "collapsed": true
   },
   "outputs": [],
   "source": [
    "def get_calibration(data):\n",
    "    data = data.copy()\n",
    "    data.Area.fillna(0, inplace=True)\n",
    "    standards_data = data[data.concentration_mM.notnull()]\n",
    "    # Calculate the response factor\n",
    "    slope_no_intercept, _, rsquared_no_intercept = calibrate(standards_data, fit_intercept=False)\n",
    "    slope_with_intercept, intercept, rsquared_with_intercept = calibrate(standards_data, fit_intercept=True)\n",
    "\n",
    "    out = pd.Series({'slope_no_intercept': slope_no_intercept,\n",
    "                     'rsquared_no_intercept': rsquared_no_intercept,\n",
    "                     'slope_with_intercept': slope_with_intercept,\n",
    "                     'intercept': intercept,\n",
    "                     'rsquared_with_intercept': rsquared_with_intercept})\n",
    "    return out"
   ]
  },
  {
   "cell_type": "code",
   "execution_count": null,
   "metadata": {
    "collapsed": false
   },
   "outputs": [],
   "source": [
    "calibrations = (data.join(samples, on='Sample_ID')\n",
    "                      .reset_index().groupby(['compound', 'run'])\n",
    "                      .apply(get_calibration)\n",
    "                      .reset_index())\n",
    "calibrations"
   ]
  },
  {
   "cell_type": "code",
   "execution_count": null,
   "metadata": {
    "collapsed": true
   },
   "outputs": [],
   "source": [
    "calibrations.to_csv('outputs/calibrations.tsv', sep='\\t', index=False)\n",
    "result.to_csv('outputs/concentration.tsv', sep='\\t', index=False)"
   ]
  }
 ],
 "metadata": {
  "kernelspec": {
   "display_name": "Python 3",
   "language": "python",
   "name": "python3"
  },
  "language_info": {
   "codemirror_mode": {
    "name": "ipython",
    "version": 3
   },
   "file_extension": ".py",
   "mimetype": "text/x-python",
   "name": "python",
   "nbconvert_exporter": "python",
   "pygments_lexer": "ipython3",
   "version": "3.5.0"
  }
 },
 "nbformat": 4,
 "nbformat_minor": 0
}
